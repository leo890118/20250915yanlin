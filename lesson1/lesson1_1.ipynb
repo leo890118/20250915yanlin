{
 "cells": [
  {
   "cell_type": "markdown",
   "id": "1486c3af",
   "metadata": {},
   "source": []
  },
  {
   "cell_type": "code",
   "execution_count": null,
   "id": "526c7889",
   "metadata": {},
   "outputs": [
    {
     "ename": "",
     "evalue": "",
     "output_type": "error",
     "traceback": [
      "\u001b[1;31m執行具有 '20250915yanlin (Python 3.10.18)' 的儲存格需要 ipykernel 套件。\n",
      "\u001b[1;31m將 'ipykernel' 安裝到 Python 環境中。\n",
      "\u001b[1;31m命令: 'c:/Users/User/Documents/github/20250915yanlin/.venv/Scripts/python.exe -m pip install ipykernel -U --force-reinstall'"
     ]
    }
   ],
   "source": [
    "print(\"hello\")"
   ]
  }
 ],
 "metadata": {
  "language_info": {
   "name": "python"
  }
 },
 "nbformat": 4,
 "nbformat_minor": 5
}
