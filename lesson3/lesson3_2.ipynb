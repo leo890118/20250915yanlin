{
 "cells": [
  {
   "cell_type": "code",
   "execution_count": 5,
   "id": "65fb5d08",
   "metadata": {},
   "outputs": [],
   "source": [
    "def sum(*args): #文件內自訂的function\n",
    "    total = 0\n",
    "    for value in args:\n",
    "        total += value  \n",
    "    return total"
   ]
  },
  {
   "cell_type": "code",
   "execution_count": 2,
   "id": "447de9a6",
   "metadata": {},
   "outputs": [
    {
     "data": {
      "text/plain": [
       "55"
      ]
     },
     "execution_count": 2,
     "metadata": {},
     "output_type": "execute_result"
    }
   ],
   "source": [
    "sum(1,2,3,4,5,6,7,8,9,10)"
   ]
  },
  {
   "cell_type": "code",
   "execution_count": 3,
   "id": "0f34f5df",
   "metadata": {},
   "outputs": [],
   "source": [
    "class Tools:\n",
    "    @staticmethod\n",
    "    def sum(*args): #文件內自訂的function\n",
    "        total = 0\n",
    "        for value in args:\n",
    "            total += value\n",
    "        return total\n",
    "\n",
    "    @classmethod\n",
    "    def sum1(cls,*args):\n",
    "        total = 0\n",
    "        for value in args:\n",
    "            total += value\n",
    "        return total"
   ]
  },
  {
   "cell_type": "code",
   "execution_count": 4,
   "id": "931e58fa",
   "metadata": {},
   "outputs": [
    {
     "data": {
      "text/plain": [
       "55"
      ]
     },
     "execution_count": 4,
     "metadata": {},
     "output_type": "execute_result"
    }
   ],
   "source": [
    "Tools.sum(1,2,3,4,5,6,7,8,9,10)\n",
    "Tools.sum1(1,2,3,4,5,6,7,8,9,10)"
   ]
  }
 ],
 "metadata": {
  "kernelspec": {
   "display_name": "20250915yanlin",
   "language": "python",
   "name": "python3"
  },
  "language_info": {
   "codemirror_mode": {
    "name": "ipython",
    "version": 3
   },
   "file_extension": ".py",
   "mimetype": "text/x-python",
   "name": "python",
   "nbconvert_exporter": "python",
   "pygments_lexer": "ipython3",
   "version": "3.10.18"
  }
 },
 "nbformat": 4,
 "nbformat_minor": 5
}
