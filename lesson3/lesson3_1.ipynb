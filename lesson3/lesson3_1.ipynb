{
 "cells": [
  {
   "cell_type": "code",
   "execution_count": 8,
   "id": "3786057c",
   "metadata": {},
   "outputs": [],
   "source": [
    "class Person:\n",
    "    def __init__(self,name): #自訂的初始化\n",
    "        self.name = name #建立attribute\n",
    "\n",
    "    def greeting(self): #自訂的實體方法\n",
    "        print(f\"您好:{self.name}\")"
   ]
  },
  {
   "cell_type": "code",
   "execution_count": 9,
   "id": "27740a76",
   "metadata": {},
   "outputs": [
    {
     "name": "stdout",
     "output_type": "stream",
     "text": [
      "您好:robert\n",
      "您好:jenny\n"
     ]
    }
   ],
   "source": [
    "p1:Person = Person(\"robert\")\n",
    "p1.greeting()\n",
    "\n",
    "p2:Person = Person(name=\"jenny\")\n",
    "p2.greeting()"
   ]
  },
  {
   "cell_type": "code",
   "execution_count": 10,
   "id": "3496d9ac",
   "metadata": {},
   "outputs": [],
   "source": [
    "class Student(Person):\n",
    "    def __init__(self,name,chinese,english,math):\n",
    "        super().__init__(name)\n",
    "        self.__chinese = chinese\n",
    "        self.__english = english\n",
    "        self.__math = math\n",
    "\n",
    "    @property #decorator\n",
    "    def chinese(self):\n",
    "        return self.__chinese\n",
    "    \n",
    "    @property\n",
    "    def english(self):\n",
    "        return self.__english\n",
    "\n",
    "    @property\n",
    "    def math(self):\n",
    "        return self.__math\n",
    "\n",
    "    def greeting(self): #overwirte(覆寫)父類別的實體方法\n",
    "        super().greeting()\n",
    "        print(f\"我是一個學生\")\n",
    "\n",
    "    def total(self): #method,自訂的實體方法\n",
    "        return self.chinese + self.english + self.math\n",
    "\n",
    "    def average(self): #method,自訂的實體方法\n",
    "        return self.total() / 3.0\n",
    "\n",
    "    def __repr__(self):\n",
    "        return f\"\"\"\n",
    "        我是一個學生\n",
    "        我的名字是{self.name}\n",
    "        我的總分是{self.total()}\n",
    "        我的平均是{self.average()}\n",
    "        \"\"\""
   ]
  },
  {
   "cell_type": "code",
   "execution_count": 11,
   "id": "0f7d92cc",
   "metadata": {},
   "outputs": [
    {
     "name": "stdout",
     "output_type": "stream",
     "text": [
      "Kevin\n",
      "國文分數:100\n",
      "英文分數:78\n",
      "數學分數:92\n",
      "總分:270\n",
      "平均:90.0\n",
      "您好:Kevin\n",
      "我是一個學生\n"
     ]
    }
   ],
   "source": [
    "s1 = Student(\"Kevin\",english=78, math=92, chinese=100)\n",
    "print(s1.name)\n",
    "print(f\"國文分數:{s1.chinese}\")\n",
    "print(f\"英文分數:{s1.english}\")\n",
    "print(f\"數學分數:{s1.math}\")\n",
    "print(f\"總分:{s1.total()}\")\n",
    "print(f\"平均:{s1.average()}\")\n",
    "s1.greeting()"
   ]
  },
  {
   "cell_type": "code",
   "execution_count": 12,
   "id": "d8220d75",
   "metadata": {},
   "outputs": [
    {
     "name": "stdout",
     "output_type": "stream",
     "text": [
      "\n",
      "        我是一個學生\n",
      "        我的名字是Kevin\n",
      "        我的總分是270\n",
      "        我的平均是90.0\n",
      "        \n"
     ]
    }
   ],
   "source": [
    "print(s1)"
   ]
  }
 ],
 "metadata": {
  "kernelspec": {
   "display_name": "20250915yanlin",
   "language": "python",
   "name": "python3"
  },
  "language_info": {
   "codemirror_mode": {
    "name": "ipython",
    "version": 3
   },
   "file_extension": ".py",
   "mimetype": "text/x-python",
   "name": "python",
   "nbconvert_exporter": "python",
   "pygments_lexer": "ipython3",
   "version": "3.10.18"
  }
 },
 "nbformat": 4,
 "nbformat_minor": 5
}
