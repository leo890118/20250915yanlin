{
 "cells": [
  {
   "cell_type": "code",
   "execution_count": 1,
   "id": "2f321a10",
   "metadata": {},
   "outputs": [
    {
     "name": "stdout",
     "output_type": "stream",
     "text": [
      "出現錯誤,錯誤是:名字錯誤\n"
     ]
    }
   ],
   "source": [
    "try:\n",
    "    raise NameError(\"名字錯誤\")\n",
    "    print(\"Hello!\")\n",
    "except Exception as e:\n",
    "    print(f\"出現錯誤,錯誤是:{e}\")\n",
    "else:\n",
    "    print(\"沒有錯誤\")"
   ]
  },
  {
   "cell_type": "code",
   "execution_count": 2,
   "id": "ae814e0f",
   "metadata": {},
   "outputs": [
    {
     "name": "stdout",
     "output_type": "stream",
     "text": [
      "Hello!\n",
      "沒有錯誤\n"
     ]
    }
   ],
   "source": [
    "try:\n",
    "    #raise NameError(\"名字錯誤\")\n",
    "    print(\"Hello!\")\n",
    "except NameError:\n",
    "    print(\"名字錯誤\")\n",
    "except Exception as e:\n",
    "    print(f\"出現錯誤,錯誤是:{e}\")\n",
    "else:\n",
    "    print(\"沒有錯誤\")"
   ]
  }
 ],
 "metadata": {
  "kernelspec": {
   "display_name": "20250915yanlin",
   "language": "python",
   "name": "python3"
  },
  "language_info": {
   "codemirror_mode": {
    "name": "ipython",
    "version": 3
   },
   "file_extension": ".py",
   "mimetype": "text/x-python",
   "name": "python",
   "nbconvert_exporter": "python",
   "pygments_lexer": "ipython3",
   "version": "3.10.18"
  }
 },
 "nbformat": 4,
 "nbformat_minor": 5
}
