{
 "cells": [
  {
   "cell_type": "code",
   "execution_count": 2,
   "id": "3786057c",
   "metadata": {},
   "outputs": [],
   "source": [
    "# 定義類別\n",
    "\n",
    "class Car():\n",
    "    pass"
   ]
  },
  {
   "cell_type": "code",
   "execution_count": 3,
   "id": "0e084234",
   "metadata": {},
   "outputs": [
    {
     "data": {
      "text/plain": [
       "__main__.Car"
      ]
     },
     "execution_count": 3,
     "metadata": {},
     "output_type": "execute_result"
    }
   ],
   "source": [
    "car1 = Car()\n",
    "type(car1)"
   ]
  },
  {
   "cell_type": "code",
   "execution_count": 4,
   "id": "c995290f",
   "metadata": {},
   "outputs": [],
   "source": [
    "class Dog:\n",
    "    def __init__(self, name, age):\n",
    "        self.name = name\n",
    "        self.age = age\n",
    "        "
   ]
  },
  {
   "cell_type": "code",
   "execution_count": 5,
   "id": "8dae29db",
   "metadata": {},
   "outputs": [
    {
     "name": "stdout",
     "output_type": "stream",
     "text": [
      "Buddy\n",
      "3\n"
     ]
    }
   ],
   "source": [
    "dog1 = Dog(\"Buddy\", 3)\n",
    "print(dog1.name)\n",
    "print(dog1.age)"
   ]
  },
  {
   "cell_type": "code",
   "execution_count": 6,
   "id": "54003019",
   "metadata": {},
   "outputs": [
    {
     "name": "stdout",
     "output_type": "stream",
     "text": [
      "Max\n",
      "5\n"
     ]
    }
   ],
   "source": [
    "dog2 = Dog(\"Max\", 5)\n",
    "print(dog2.name)  \n",
    "print(dog2.age)\n"
   ]
  }
 ],
 "metadata": {
  "kernelspec": {
   "display_name": "20250915yanlin",
   "language": "python",
   "name": "python3"
  },
  "language_info": {
   "codemirror_mode": {
    "name": "ipython",
    "version": 3
   },
   "file_extension": ".py",
   "mimetype": "text/x-python",
   "name": "python",
   "nbconvert_exporter": "python",
   "pygments_lexer": "ipython3",
   "version": "3.10.18"
  }
 },
 "nbformat": 4,
 "nbformat_minor": 5
}
