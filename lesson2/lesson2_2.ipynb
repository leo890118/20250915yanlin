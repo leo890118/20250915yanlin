{
 "cells": [
  {
   "cell_type": "code",
   "execution_count": 3,
   "id": "5d1d083d",
   "metadata": {},
   "outputs": [
    {
     "name": "stdout",
     "output_type": "stream",
     "text": [
      "Hello! Python!\n"
     ]
    }
   ],
   "source": [
    "print(\"Hello! Python!\")"
   ]
  },
  {
   "cell_type": "code",
   "execution_count": 4,
   "id": "f5d0994b",
   "metadata": {},
   "outputs": [
    {
     "name": "stdout",
     "output_type": "stream",
     "text": [
      "        *        \n",
      "       ***       \n",
      "      *****      \n",
      "     *********   \n",
      "    ***********  \n",
      "   ************* \n",
      "        |||      \n",
      "       =====     \n"
     ]
    }
   ],
   "source": [
    "# 定義一個沒有參數,沒有傳出值的function\n",
    "# todo:建立一個可以使用print()劃出聖誕樹的function\n",
    "# 必需要有說明docstring\n",
    "def draw_christmas_tree():\n",
    "    \"\"\"\n",
    "    這個函數會印出一個簡單的 ASCII 藝術聖誕樹。\n",
    "    \"\"\"\n",
    "    print(\"        *        \")\n",
    "    print(\"       ***       \")\n",
    "    print(\"      *****      \")\n",
    "    print(\"     *********   \")\n",
    "    print(\"    ***********  \")\n",
    "    print(\"   ************* \")\n",
    "    print(\"        |||      \")\n",
    "    print(\"       =====     \")\n",
    "\n",
    "draw_christmas_tree()\n",
    "    "
   ]
  },
  {
   "cell_type": "code",
   "execution_count": 6,
   "id": "eb6489a5",
   "metadata": {},
   "outputs": [],
   "source": [
    "# 自訂的function,有參數,有傳出值\n",
    "# todo:建立一個簡單的問候函數\n",
    "# 名稱:greet_person(snake_case)\n",
    "# 參數:name,greeting,greetung必須有預設值\n",
    "def greet_person(name, greeting=\"Hello\"):\n",
    "    \"\"\"\n",
    "    這個函數會根據提供的名字和問候語來打印問候信息。\n",
    "    \n",
    "    參數:\n",
    "    name (str): 要問候的人的名字。\n",
    "    greeting (str): 問候語，默認為 \"Hello\"。\n",
    "    \n",
    "    傳回:\n",
    "    str: 格式化的問候信息。\n",
    "    \"\"\"\n",
    "    return f\"{greeting}, {name}!\""
   ]
  },
  {
   "cell_type": "code",
   "execution_count": 7,
   "id": "6994dea6",
   "metadata": {},
   "outputs": [
    {
     "name": "stdout",
     "output_type": "stream",
     "text": [
      "Help on function greet_person in module __main__:\n",
      "\n",
      "greet_person(name, greeting='Hello')\n",
      "    這個函數會根據提供的名字和問候語來打印問候信息。\n",
      "    \n",
      "    參數:\n",
      "    name (str): 要問候的人的名字。\n",
      "    greeting (str): 問候語，默認為 \"Hello\"。\n",
      "    \n",
      "    傳回:\n",
      "    str: 格式化的問候信息。\n",
      "\n"
     ]
    }
   ],
   "source": [
    "help(greet_person)"
   ]
  },
  {
   "cell_type": "code",
   "execution_count": 8,
   "id": "b9689941",
   "metadata": {},
   "outputs": [
    {
     "name": "stdout",
     "output_type": "stream",
     "text": [
      "Hello, Alice!\n"
     ]
    }
   ],
   "source": [
    "# 使用最少的引數值呼叫\n",
    "print(greet_person(\"Alice\"))"
   ]
  },
  {
   "cell_type": "code",
   "execution_count": null,
   "id": "99674101",
   "metadata": {},
   "outputs": [
    {
     "name": "stdout",
     "output_type": "stream",
     "text": [
      "你好, Alice!\n"
     ]
    }
   ],
   "source": [
    "print(greet_person(\"Alice\",greeting=\"你好\"))"
   ]
  },
  {
   "cell_type": "code",
   "execution_count": 11,
   "id": "47236a90",
   "metadata": {},
   "outputs": [],
   "source": [
    "# todo:建立一個BMI計算機\n",
    "#名稱:calculate_bmi\n",
    "#參數:height(公尺),weight(公斤)\n",
    "#傳出值(tuple):(bmi值,status)\n",
    "def calculate_bmi(height:float, weight:float) -> tuple:\n",
    "    \"\"\"\n",
    "    計算並返回BMI值及其狀態。\n",
    "    \n",
    "    參數:\n",
    "    height (float): 身高，單位為公尺。\n",
    "    weight (float): 體重，單位為公斤。\n",
    "    \n",
    "    傳回:\n",
    "    tuple: 包含BMI值和狀態的元組。\n",
    "    \"\"\"\n",
    "    bmi = weight / (height ** 2)\n",
    "    \n",
    "    if bmi < 18.5:\n",
    "        status = \"體重過輕\"\n",
    "    elif 18.5 <= bmi < 24:\n",
    "        status = \"體重正常\"\n",
    "    elif 24 <= bmi < 27:\n",
    "        status = \"體重過重\"\n",
    "    elif 27 <= bmi < 30:\n",
    "        status = \"輕度肥胖\"\n",
    "    elif 30 <= bmi < 35:\n",
    "        status = \"中度肥胖\"\n",
    "    else:\n",
    "        status = \"重度肥胖\"\n",
    "    \n",
    "    return bmi, status"
   ]
  },
  {
   "cell_type": "code",
   "execution_count": 13,
   "id": "f72db81a",
   "metadata": {},
   "outputs": [
    {
     "name": "stdout",
     "output_type": "stream",
     "text": [
      "BMI值: 16.71, 狀態: 體重過輕\n"
     ]
    }
   ],
   "source": [
    "bmi, status =calculate_bmi(1.73, 50)\n",
    "print(f\"BMI值: {bmi:.2f}, 狀態: {status}\")"
   ]
  },
  {
   "cell_type": "code",
   "execution_count": null,
   "id": "9b60a33b",
   "metadata": {},
   "outputs": [],
   "source": [
    "# todo :自訂一個密碼驗證器\n",
    "# 參數(str):password\n",
    "# 功能:\n",
    "# 1.長度至少8個字元\n",
    "# 2.至少有一個大寫字母,有小寫字元,傳出**密碼強度:強**\n",
    "# 3.如果沒有則傳出**密碼強度:中**\n",
    "def password_validator(password: str) -> str:\n",
    "    \"\"\"\n",
    "    驗證密碼強度。\n",
    "    \n",
    "    參數:\n",
    "    password (str): 要驗證的密碼。\n",
    "    \n",
    "    傳回:\n",
    "    str: 密碼強度 (\"強\" 或 \"中\")。\n",
    "    \"\"\"\n",
    "    if len(password) < 8:\n",
    "        return \"密碼強度: 弱 (長度不足)\"\n",
    "    \n",
    "    has_upper = any(c.isupper() for c in password)\n",
    "    has_lower = any(c.islower() for c in password)\n",
    "    \n",
    "    if has_upper and has_lower:\n",
    "        return \"密碼強度: 強\"\n",
    "    else:\n",
    "        return \"密碼強度: 中\"\n",
    "\n"
   ]
  },
  {
   "cell_type": "code",
   "execution_count": 14,
   "id": "9284cbef",
   "metadata": {},
   "outputs": [
    {
     "data": {
      "text/plain": [
       "11"
      ]
     },
     "execution_count": 14,
     "metadata": {},
     "output_type": "execute_result"
    }
   ],
   "source": [
    "password = \"Password123\"\n",
    "len(password)"
   ]
  },
  {
   "cell_type": "code",
   "execution_count": 15,
   "id": "da04cb28",
   "metadata": {},
   "outputs": [
    {
     "data": {
      "text/plain": [
       "(True, True)"
      ]
     },
     "execution_count": 15,
     "metadata": {},
     "output_type": "execute_result"
    }
   ],
   "source": [
    "has_upper = any(c.isupper() for c in password)\n",
    "has_lower = any(c.islower() for c in password)\n",
    "\n",
    "(has_upper, has_lower)"
   ]
  },
  {
   "cell_type": "code",
   "execution_count": 17,
   "id": "8e89d82e",
   "metadata": {},
   "outputs": [
    {
     "name": "stdout",
     "output_type": "stream",
     "text": [
      "密碼強度: 強\n"
     ]
    }
   ],
   "source": [
    "if has_upper and has_lower:\n",
    "    print(\"密碼強度: 強\")\n",
    "else:\n",
    "    print(\"密碼強度: 中\")"
   ]
  }
 ],
 "metadata": {
  "kernelspec": {
   "display_name": "20250915yanlin",
   "language": "python",
   "name": "python3"
  },
  "language_info": {
   "codemirror_mode": {
    "name": "ipython",
    "version": 3
   },
   "file_extension": ".py",
   "mimetype": "text/x-python",
   "name": "python",
   "nbconvert_exporter": "python",
   "pygments_lexer": "ipython3",
   "version": "3.10.18"
  }
 },
 "nbformat": 4,
 "nbformat_minor": 5
}
